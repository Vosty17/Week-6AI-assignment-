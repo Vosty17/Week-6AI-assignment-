{
 "cells": [
  {
   "cell_type": "code",
   "execution_count": null,
   "id": "e073b382",
   "metadata": {},
   "outputs": [],
   "source": [
    "#!/usr/bin/env python3"
   ]
  },
  {
   "cell_type": "markdown",
   "id": "012db0ca",
   "metadata": {},
   "source": [
    "## Main Execution Script for Ethics in Personalized Medicine Bias Analysis\n",
    "======================================================================\n",
    "\n",
    "### This script runs the complete bias analysis pipeline for AI-driven personalized medicine, including demographic bias analysis, algorithmic bias assessment, and bias mitigation strategies."
   ]
  },
  {
   "cell_type": "code",
   "execution_count": null,
   "id": "05726a93",
   "metadata": {},
   "outputs": [],
   "source": [
    "# Import all necessary libraries for running the analysis pipeline\n",
    "import os\n",
    "import sys\n",
    "import time"
   ]
  },
  {
   "cell_type": "markdown",
   "id": "ab005fa8",
   "metadata": {},
   "source": [
    "### Ensure Output Directories Exist"
   ]
  },
  {
   "cell_type": "code",
   "execution_count": null,
   "id": "7b28810d",
   "metadata": {},
   "outputs": [],
   "source": [
    "# Ensure all necessary directories exist for saving results and visualizations\n",
    "directories = [\n",
    "    'analysis',\n",
    "    'ethics_framework',\n",
    "    'mitigation_strategies',\n",
    "    'documentation',\n",
    "    'data',\n",
    "    'results'\n",
    "]\n",
    "for directory in directories:\n",
    "    os.makedirs(directory, exist_ok=True)"
   ]
  },
  {
   "cell_type": "markdown",
   "id": "b197bf57",
   "metadata": {},
   "source": [
    "### Import Analysis Classes and Functions"
   ]
  },
  {
   "cell_type": "markdown",
   "id": "eaae35a0",
   "metadata": {},
   "source": [
    "#### Import the main analysis classes from your other notebooks/scripts\n",
    "#### NOTE: In a real project, you would use import statements if these are in .py files.\n",
    "#### In a notebook, you can copy the class definitions from the other notebooks into this one,\n",
    "#### or use %run magic to run the other notebooks if needed.\n",
    "\n",
    "#### For demonstration, we assume the classes are already defined in the notebook:\n",
    "#### - DemographicBiasAnalyzer\n",
    "#### - AlgorithmicBiasAnalyzer\n",
    "#### - BiasMitigationStrategies\n",
    "\n",
    "#### If you have the classes in .py files, you can use:\n",
    "#### %run analysis/demographic_bias_analysis.py\n",
    "#### %run analysis/algorithmic_bias_analysis.py\n",
    "#### %run mitigation_strategies/bias_mitigation_approaches.py"
   ]
  },
  {
   "cell_type": "markdown",
   "id": "547d0cb0",
   "metadata": {},
   "source": [
    "### Run Demographic Bias Analysis"
   ]
  },
  {
   "cell_type": "code",
   "execution_count": null,
   "id": "a8383c2e",
   "metadata": {},
   "outputs": [],
   "source": [
    "# Run the demographic bias analysis and save results\n",
    "print(\"\\n\" + \"=\"*60)\n",
    "print(\"RUNNING DEMOGRAPHIC BIAS ANALYSIS\")\n",
    "print(\"=\"*60)\n",
    "demographic_analyzer = DemographicBiasAnalyzer()\n",
    "demographic_analyzer.load_tcga_demographics()\n",
    "demographic_analyzer.analyze_ethnic_representation()\n",
    "demographic_analyzer.analyze_age_distribution()\n",
    "demographic_analyzer.analyze_cancer_type_distribution()\n",
    "demographic_analyzer.analyze_socioeconomic_bias()\n",
    "demographic_analyzer.generate_bias_report()\n",
    "print(\"\\nGenerating visualizations...\")\n",
    "demographic_analyzer.create_visualizations()\n",
    "print(\"\\nDemographic bias analysis complete! Check 'analysis/demographic_bias_visualizations.png' for visualizations.\")"
   ]
  },
  {
   "cell_type": "markdown",
   "id": "6fb12a88",
   "metadata": {},
   "source": [
    "### Run Algorithmic Bias Analysis"
   ]
  },
  {
   "cell_type": "code",
   "execution_count": null,
   "id": "c44b11e9",
   "metadata": {},
   "outputs": [],
   "source": [
    "# Run the algorithmic bias analysis and save results\n",
    "print(\"\\n\" + \"=\"*60)\n",
    "print(\"RUNNING ALGORITHMIC BIAS ANALYSIS\")\n",
    "print(\"=\"*60)\n",
    "algorithmic_analyzer = AlgorithmicBiasAnalyzer()\n",
    "algorithmic_analyzer.data = algorithmic_analyzer.create_synthetic_genomic_data()\n",
    "algorithmic_analyzer.analyze_feature_selection_bias()\n",
    "algorithmic_analyzer.analyze_model_performance_bias()\n",
    "algorithmic_analyzer.analyze_prediction_bias()\n",
    "algorithmic_analyzer.analyze_interpretation_bias()\n",
    "algorithmic_analyzer.generate_algorithmic_bias_report()\n",
    "print(\"\\nGenerating visualizations...\")\n",
    "algorithmic_analyzer.create_algorithmic_bias_visualizations()\n",
    "print(\"\\nAlgorithmic bias analysis complete! Check 'analysis/algorithmic_bias_visualizations.png' for visualizations.\")"
   ]
  },
  {
   "cell_type": "markdown",
   "id": "bc856037",
   "metadata": {},
   "source": [
    "### Run Bias Mitigation Strategies"
   ]
  },
  {
   "cell_type": "code",
   "execution_count": null,
   "id": "2270cfda",
   "metadata": {},
   "outputs": [],
   "source": [
    "# Run the bias mitigation strategies analysis and save results\n",
    "print(\"\\n\" + \"=\"*60)\n",
    "print(\"RUNNING BIAS MITIGATION STRATEGIES\")\n",
    "print(\"=\"*60)\n",
    "mitigator = BiasMitigationStrategies()\n",
    "data = mitigator.create_biased_dataset()\n",
    "X, y, demographic_groups, feature_cols = mitigator.preprocess_data(data)\n",
    "mitigator.measure_bias_before_mitigation(X, y, demographic_groups)\n",
    "mitigator.pre_processing_mitigation(X, y, demographic_groups)\n",
    "mitigator.in_processing_mitigation(X, y, demographic_groups)\n",
    "mitigator.post_processing_mitigation(X, y, demographic_groups)\n",
    "mitigator.compare_mitigation_strategies()\n",
    "print(\"\\nGenerating visualizations...\")\n",
    "mitigator.create_mitigation_visualizations()\n",
    "print(\"\\nBias mitigation strategies analysis complete! Check 'mitigation_strategies/mitigation_comparison.png' for visualizations.\")"
   ]
  },
  {
   "cell_type": "markdown",
   "id": "977a9157",
   "metadata": {},
   "source": [
    "## Summary Report\n",
    "\n",
    "# Ethics in Personalized Medicine: Bias Analysis Summary Report\n",
    "\n",
    "## Project Overview\n",
    "This project analyzed potential biases in AI-driven personalized medicine using the Cancer Genomic Atlas (TCGA) dataset.\n",
    "\n",
    "## Key Findings\n",
    "- Demographic representation bias\n",
    "- Algorithmic bias\n",
    "- Implementation bias\n",
    "\n",
    "## Bias Mitigation Strategies\n",
    "- Pre-processing: Oversampling, undersampling, reweighting\n",
    "- In-processing: Adversarial training, fairness constraints, regularization\n",
    "- Post-processing: Threshold adjustment, calibration, rejection option\n",
    "\n",
    "## Recommendations\n",
    "- Increase recruitment of underrepresented groups\n",
    "- Use fairness-aware algorithms\n",
    "- Regular bias audits and monitoring\n",
    "\n",
    "## Visualizations\n",
    "- analysis/demographic_bias_visualizations.png\n",
    "- analysis/algorithmic_bias_visualizations.png\n",
    "- mitigation_strategies/mitigation_comparison.png\n",
    "\n",
    "## Status\n",
    "Analysis complete!\n",
    "\"\"\"\n",
    "\n",
    "with open('summary_report.md', 'w') as f:\n",
    "    f.write(summary_report)\n",
    "\n",
    "print(\"\\nSummary report generated: summary_report.md\")"
   ]
  }
 ],
 "metadata": {
  "language_info": {
   "name": "python"
  }
 },
 "nbformat": 4,
 "nbformat_minor": 5
}
